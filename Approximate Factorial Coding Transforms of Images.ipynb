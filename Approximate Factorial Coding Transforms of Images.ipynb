{
 "cells": [
  {
   "cell_type": "markdown",
   "metadata": {},
   "source": [
    "# Approximate Factorial Coding Transforms of Images"
   ]
  },
  {
   "cell_type": "markdown",
   "metadata": {},
   "source": [
    "## Whitening, Contrast Normalization, and Sparse Coding"
   ]
  },
  {
   "cell_type": "code",
   "execution_count": null,
   "metadata": {},
   "outputs": [],
   "source": [
    "import os\n",
    "\n",
    "import numpy as np\n",
    "import numpy.fft as fft\n",
    "import matplotlib.pyplot as plt\n",
    "import scipy\n",
    "\n",
    "import copy\n",
    "\n",
    "import itertools\n",
    "\n",
    "from PIL import Image\n",
    "import scipy.signal\n",
    "\n",
    "import utils.utils as utils\n",
    "\n",
    "%matplotlib inline"
   ]
  },
  {
   "cell_type": "markdown",
   "metadata": {},
   "source": [
    "# Marginal Entropies Across Images"
   ]
  },
  {
   "cell_type": "code",
   "execution_count": null,
   "metadata": {},
   "outputs": [],
   "source": [
    "imageBatchSize = 10\n",
    "patchSize = 12\n",
    "\n",
    "batchNames = ['raw pixel',\n",
    "             'white',\n",
    "             'LCN']\n",
    "\n",
    "imageBatch = utils.getRandomImageBatch(imageBatchSize)\n",
    "whiteBatch = utils.whitenBatch(imageBatch)\n",
    "LCNBatch = utils.contrastNormalizeBatch(whiteBatch)\n",
    "\n",
    "#add sparseBatch?\n",
    "\n",
    "batches = [imageBatch,\n",
    "         whiteBatch,\n",
    "         LCNBatch]\n",
    "\n",
    "patchBatches = [utils.normalizeBatch(utils.getPatchesBatch(batch,12)) for batch in batches]\n",
    "\n",
    "patchBatchDict = dict(zip(batchNames,patchBatches))"
   ]
  },
  {
   "cell_type": "code",
   "execution_count": null,
   "metadata": {},
   "outputs": [],
   "source": [
    "resultsDict = {batchName:utils.estimateMarginalEntropy(patchBatch) \n",
    "               for batchName,patchBatch \n",
    "               in patchBatchDict.items()}"
   ]
  },
  {
   "cell_type": "code",
   "execution_count": null,
   "metadata": {
    "collapsed": true
   },
   "outputs": [],
   "source": [
    "for patchBatch in resultsDict.keys():\n",
    "    results = resultsDict[patchBatch]\n",
    "    results['gaussMu'], results['gaussVar'] = utils.fitGauss(patchBatchDict[patchBatch])"
   ]
  },
  {
   "cell_type": "code",
   "execution_count": null,
   "metadata": {},
   "outputs": [],
   "source": [
    "utils.viewBatchResults(resultsDict,plotGauss=True)"
   ]
  },
  {
   "cell_type": "code",
   "execution_count": null,
   "metadata": {},
   "outputs": [],
   "source": [
    "pixelOnly = {'raw pixel': resultsDict['raw pixel']}\n",
    "utils.viewBatchResults(pixelOnly,plotGauss=True);"
   ]
  },
  {
   "cell_type": "markdown",
   "metadata": {},
   "source": [
    "# Single-Image Marginal Entropies"
   ]
  },
  {
   "cell_type": "code",
   "execution_count": null,
   "metadata": {},
   "outputs": [],
   "source": [
    "# trained on vanHateren database (?)\n",
    "filterFiles = {\"withNormalize\":'/home/dpaiton/Work/Projects/test/outputs/weights.npz',\n",
    "               \"noNormalize\":'/home/dpaiton/Work/Projects/strongPCA/outputs/weights.npz'}\n",
    "\n",
    "filterBank = utils.loadFilters(filterFiles[\"noNormalize\"])"
   ]
  },
  {
   "cell_type": "code",
   "execution_count": null,
   "metadata": {},
   "outputs": [],
   "source": [
    "sparseFilter = filterBank[np.random.choice(len(filterBank))]\n",
    "\n",
    "utils.getSingleImageEntropies(image=None,\n",
    "                              filt=sparseFilter,\n",
    "                              doWhiten=True,doNormalize=True,doZScore=False,\n",
    "                              plotMLE=True)"
   ]
  }
 ],
 "metadata": {
  "kernelspec": {
   "display_name": "Python 3",
   "language": "python",
   "name": "python3"
  },
  "language_info": {
   "codemirror_mode": {
    "name": "ipython",
    "version": 3
   },
   "file_extension": ".py",
   "mimetype": "text/x-python",
   "name": "python",
   "nbconvert_exporter": "python",
   "pygments_lexer": "ipython3",
   "version": "3.4.3"
  }
 },
 "nbformat": 4,
 "nbformat_minor": 2
}
